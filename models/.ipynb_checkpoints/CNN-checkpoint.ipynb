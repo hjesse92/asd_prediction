{
 "cells": [
  {
   "cell_type": "markdown",
   "metadata": {
    "colab_type": "text",
    "id": "view-in-github"
   },
   "source": [
    "<a href=\"https://colab.research.google.com/github/hjesse92/Predicting_and_Classifying_ASD_through_Eye-movement_Tracking_using_CV_and_ML/blob/master/CNN.ipynb\" target=\"_parent\"><img src=\"https://colab.research.google.com/assets/colab-badge.svg\" alt=\"Open In Colab\"/></a>"
   ]
  },
  {
   "cell_type": "code",
   "execution_count": 6,
   "metadata": {
    "collapsed": true,
    "jupyter": {
     "outputs_hidden": true
    },
    "tags": []
   },
   "outputs": [
    {
     "name": "stdout",
     "output_type": "stream",
     "text": [
      "Looking in indexes: https://download.pytorch.org/whl/cu118\n",
      "Requirement already satisfied: ipywidgets in /opt/conda/envs/pytorch/lib/python3.9/site-packages (8.0.7)\n",
      "Requirement already satisfied: torch in /opt/conda/envs/pytorch/lib/python3.9/site-packages (2.1.0)\n",
      "Requirement already satisfied: torchvision in /opt/conda/envs/pytorch/lib/python3.9/site-packages (0.14.1)\n",
      "Requirement already satisfied: torchaudio in /opt/conda/envs/pytorch/lib/python3.9/site-packages (0.13.1)\n",
      "Requirement already satisfied: widgetsnbextension~=4.0.7 in /opt/conda/envs/pytorch/lib/python3.9/site-packages (from ipywidgets) (4.0.8)\n",
      "Requirement already satisfied: ipython>=6.1.0 in /opt/conda/envs/pytorch/lib/python3.9/site-packages (from ipywidgets) (8.14.0)\n",
      "Requirement already satisfied: ipykernel>=4.5.1 in /opt/conda/envs/pytorch/lib/python3.9/site-packages (from ipywidgets) (6.25.1)\n",
      "Requirement already satisfied: traitlets>=4.3.1 in /opt/conda/envs/pytorch/lib/python3.9/site-packages (from ipywidgets) (5.9.0)\n",
      "Requirement already satisfied: jupyterlab-widgets~=3.0.7 in /opt/conda/envs/pytorch/lib/python3.9/site-packages (from ipywidgets) (3.0.8)\n",
      "Requirement already satisfied: nvidia-cuda-runtime-cu12==12.1.105 in /opt/conda/envs/pytorch/lib/python3.9/site-packages (from torch) (12.1.105)\n",
      "Requirement already satisfied: typing-extensions in /opt/conda/envs/pytorch/lib/python3.9/site-packages (from torch) (4.7.1)\n",
      "Requirement already satisfied: networkx in /opt/conda/envs/pytorch/lib/python3.9/site-packages (from torch) (3.1)\n",
      "Requirement already satisfied: nvidia-cufft-cu12==11.0.2.54 in /opt/conda/envs/pytorch/lib/python3.9/site-packages (from torch) (11.0.2.54)\n",
      "Requirement already satisfied: nvidia-cusolver-cu12==11.4.5.107 in /opt/conda/envs/pytorch/lib/python3.9/site-packages (from torch) (11.4.5.107)\n",
      "Requirement already satisfied: nvidia-cusparse-cu12==12.1.0.106 in /opt/conda/envs/pytorch/lib/python3.9/site-packages (from torch) (12.1.0.106)\n",
      "Requirement already satisfied: nvidia-cublas-cu12==12.1.3.1 in /opt/conda/envs/pytorch/lib/python3.9/site-packages (from torch) (12.1.3.1)\n",
      "Requirement already satisfied: nvidia-cuda-cupti-cu12==12.1.105 in /opt/conda/envs/pytorch/lib/python3.9/site-packages (from torch) (12.1.105)\n",
      "Requirement already satisfied: nvidia-nccl-cu12==2.18.1 in /opt/conda/envs/pytorch/lib/python3.9/site-packages (from torch) (2.18.1)\n",
      "Requirement already satisfied: sympy in /opt/conda/envs/pytorch/lib/python3.9/site-packages (from torch) (1.12)\n",
      "Requirement already satisfied: fsspec in /opt/conda/envs/pytorch/lib/python3.9/site-packages (from torch) (2023.6.0)\n",
      "Requirement already satisfied: jinja2 in /opt/conda/envs/pytorch/lib/python3.9/site-packages (from torch) (3.1.2)\n",
      "Requirement already satisfied: nvidia-nvtx-cu12==12.1.105 in /opt/conda/envs/pytorch/lib/python3.9/site-packages (from torch) (12.1.105)\n",
      "Requirement already satisfied: triton==2.1.0 in /opt/conda/envs/pytorch/lib/python3.9/site-packages (from torch) (2.1.0)\n",
      "Requirement already satisfied: nvidia-curand-cu12==10.3.2.106 in /opt/conda/envs/pytorch/lib/python3.9/site-packages (from torch) (10.3.2.106)\n",
      "Requirement already satisfied: filelock in /opt/conda/envs/pytorch/lib/python3.9/site-packages (from torch) (3.6.0)\n",
      "Requirement already satisfied: nvidia-cudnn-cu12==8.9.2.26 in /opt/conda/envs/pytorch/lib/python3.9/site-packages (from torch) (8.9.2.26)\n",
      "Requirement already satisfied: nvidia-cuda-nvrtc-cu12==12.1.105 in /opt/conda/envs/pytorch/lib/python3.9/site-packages (from torch) (12.1.105)\n",
      "Requirement already satisfied: nvidia-nvjitlink-cu12 in /opt/conda/envs/pytorch/lib/python3.9/site-packages (from nvidia-cusolver-cu12==11.4.5.107->torch) (12.2.140)\n",
      "Requirement already satisfied: numpy in /opt/conda/envs/pytorch/lib/python3.9/site-packages (from torchvision) (1.24.4)\n",
      "Requirement already satisfied: requests in /opt/conda/envs/pytorch/lib/python3.9/site-packages (from torchvision) (2.31.0)\n",
      "Requirement already satisfied: pillow!=8.3.*,>=5.3.0 in /opt/conda/envs/pytorch/lib/python3.9/site-packages (from torchvision) (10.0.0)\n",
      "Requirement already satisfied: packaging in /opt/conda/envs/pytorch/lib/python3.9/site-packages (from ipykernel>=4.5.1->ipywidgets) (21.3)\n",
      "Requirement already satisfied: jupyter-client>=6.1.12 in /opt/conda/envs/pytorch/lib/python3.9/site-packages (from ipykernel>=4.5.1->ipywidgets) (8.3.0)\n",
      "Requirement already satisfied: debugpy>=1.6.5 in /opt/conda/envs/pytorch/lib/python3.9/site-packages (from ipykernel>=4.5.1->ipywidgets) (1.6.8)\n",
      "Requirement already satisfied: matplotlib-inline>=0.1 in /opt/conda/envs/pytorch/lib/python3.9/site-packages (from ipykernel>=4.5.1->ipywidgets) (0.1.6)\n",
      "Requirement already satisfied: jupyter-core!=5.0.*,>=4.12 in /opt/conda/envs/pytorch/lib/python3.9/site-packages (from ipykernel>=4.5.1->ipywidgets) (5.3.1)\n",
      "Requirement already satisfied: comm>=0.1.1 in /opt/conda/envs/pytorch/lib/python3.9/site-packages (from ipykernel>=4.5.1->ipywidgets) (0.1.4)\n",
      "Requirement already satisfied: nest-asyncio in /opt/conda/envs/pytorch/lib/python3.9/site-packages (from ipykernel>=4.5.1->ipywidgets) (1.5.6)\n",
      "Requirement already satisfied: psutil in /opt/conda/envs/pytorch/lib/python3.9/site-packages (from ipykernel>=4.5.1->ipywidgets) (5.9.5)\n",
      "Requirement already satisfied: tornado>=6.1 in /opt/conda/envs/pytorch/lib/python3.9/site-packages (from ipykernel>=4.5.1->ipywidgets) (6.3.3)\n",
      "Requirement already satisfied: pyzmq>=20 in /opt/conda/envs/pytorch/lib/python3.9/site-packages (from ipykernel>=4.5.1->ipywidgets) (25.1.1)\n",
      "Requirement already satisfied: pexpect>4.3 in /opt/conda/envs/pytorch/lib/python3.9/site-packages (from ipython>=6.1.0->ipywidgets) (4.8.0)\n",
      "Requirement already satisfied: pygments>=2.4.0 in /opt/conda/envs/pytorch/lib/python3.9/site-packages (from ipython>=6.1.0->ipywidgets) (2.16.1)\n",
      "Requirement already satisfied: backcall in /opt/conda/envs/pytorch/lib/python3.9/site-packages (from ipython>=6.1.0->ipywidgets) (0.2.0)\n",
      "Requirement already satisfied: pickleshare in /opt/conda/envs/pytorch/lib/python3.9/site-packages (from ipython>=6.1.0->ipywidgets) (0.7.5)\n",
      "Requirement already satisfied: prompt-toolkit!=3.0.37,<3.1.0,>=3.0.30 in /opt/conda/envs/pytorch/lib/python3.9/site-packages (from ipython>=6.1.0->ipywidgets) (3.0.39)\n",
      "Requirement already satisfied: stack-data in /opt/conda/envs/pytorch/lib/python3.9/site-packages (from ipython>=6.1.0->ipywidgets) (0.6.2)\n",
      "Requirement already satisfied: jedi>=0.16 in /opt/conda/envs/pytorch/lib/python3.9/site-packages (from ipython>=6.1.0->ipywidgets) (0.19.0)\n",
      "Requirement already satisfied: decorator in /opt/conda/envs/pytorch/lib/python3.9/site-packages (from ipython>=6.1.0->ipywidgets) (5.1.1)\n",
      "Requirement already satisfied: MarkupSafe>=2.0 in /opt/conda/envs/pytorch/lib/python3.9/site-packages (from jinja2->torch) (2.1.3)\n",
      "Requirement already satisfied: urllib3<3,>=1.21.1 in /opt/conda/envs/pytorch/lib/python3.9/site-packages (from requests->torchvision) (1.26.15)\n",
      "Requirement already satisfied: charset-normalizer<4,>=2 in /opt/conda/envs/pytorch/lib/python3.9/site-packages (from requests->torchvision) (3.2.0)\n",
      "Requirement already satisfied: idna<4,>=2.5 in /opt/conda/envs/pytorch/lib/python3.9/site-packages (from requests->torchvision) (3.4)\n",
      "Requirement already satisfied: certifi>=2017.4.17 in /opt/conda/envs/pytorch/lib/python3.9/site-packages (from requests->torchvision) (2023.7.22)\n",
      "Requirement already satisfied: mpmath>=0.19 in /opt/conda/envs/pytorch/lib/python3.9/site-packages (from sympy->torch) (1.3.0)\n",
      "Requirement already satisfied: parso<0.9.0,>=0.8.3 in /opt/conda/envs/pytorch/lib/python3.9/site-packages (from jedi>=0.16->ipython>=6.1.0->ipywidgets) (0.8.3)\n",
      "Requirement already satisfied: importlib-metadata>=4.8.3 in /opt/conda/envs/pytorch/lib/python3.9/site-packages (from jupyter-client>=6.1.12->ipykernel>=4.5.1->ipywidgets) (6.8.0)\n",
      "Requirement already satisfied: python-dateutil>=2.8.2 in /opt/conda/envs/pytorch/lib/python3.9/site-packages (from jupyter-client>=6.1.12->ipykernel>=4.5.1->ipywidgets) (2.8.2)\n",
      "Requirement already satisfied: platformdirs>=2.5 in /opt/conda/envs/pytorch/lib/python3.9/site-packages (from jupyter-core!=5.0.*,>=4.12->ipykernel>=4.5.1->ipywidgets) (3.10.0)\n",
      "Requirement already satisfied: ptyprocess>=0.5 in /opt/conda/envs/pytorch/lib/python3.9/site-packages (from pexpect>4.3->ipython>=6.1.0->ipywidgets) (0.7.0)\n",
      "Requirement already satisfied: wcwidth in /opt/conda/envs/pytorch/lib/python3.9/site-packages (from prompt-toolkit!=3.0.37,<3.1.0,>=3.0.30->ipython>=6.1.0->ipywidgets) (0.2.6)\n",
      "Requirement already satisfied: pyparsing!=3.0.5,>=2.0.2 in /opt/conda/envs/pytorch/lib/python3.9/site-packages (from packaging->ipykernel>=4.5.1->ipywidgets) (3.1.1)\n",
      "Requirement already satisfied: executing>=1.2.0 in /opt/conda/envs/pytorch/lib/python3.9/site-packages (from stack-data->ipython>=6.1.0->ipywidgets) (1.2.0)\n",
      "Requirement already satisfied: pure-eval in /opt/conda/envs/pytorch/lib/python3.9/site-packages (from stack-data->ipython>=6.1.0->ipywidgets) (0.2.2)\n",
      "Requirement already satisfied: asttokens>=2.1.0 in /opt/conda/envs/pytorch/lib/python3.9/site-packages (from stack-data->ipython>=6.1.0->ipywidgets) (2.2.1)\n",
      "Requirement already satisfied: six in /opt/conda/envs/pytorch/lib/python3.9/site-packages (from asttokens>=2.1.0->stack-data->ipython>=6.1.0->ipywidgets) (1.16.0)\n",
      "Requirement already satisfied: zipp>=0.5 in /opt/conda/envs/pytorch/lib/python3.9/site-packages (from importlib-metadata>=4.8.3->jupyter-client>=6.1.12->ipykernel>=4.5.1->ipywidgets) (3.16.2)\n"
     ]
    }
   ],
   "source": [
    "!pip3 install ipywidgets torch torchvision torchaudio --index-url https://download.pytorch.org/whl/cu118"
   ]
  },
  {
   "cell_type": "code",
   "execution_count": 7,
   "metadata": {
    "collapsed": true,
    "jupyter": {
     "outputs_hidden": true
    },
    "tags": []
   },
   "outputs": [
    {
     "name": "stdout",
     "output_type": "stream",
     "text": [
      "Requirement already satisfied: scikit-image in /opt/conda/envs/pytorch/lib/python3.9/site-packages (0.22.0)\n",
      "Requirement already satisfied: boto3 in /opt/conda/envs/pytorch/lib/python3.9/site-packages (1.28.28)\n",
      "Requirement already satisfied: packaging>=21 in /opt/conda/envs/pytorch/lib/python3.9/site-packages (from scikit-image) (21.3)\n",
      "Requirement already satisfied: tifffile>=2022.8.12 in /opt/conda/envs/pytorch/lib/python3.9/site-packages (from scikit-image) (2023.9.26)\n",
      "Requirement already satisfied: networkx>=2.8 in /opt/conda/envs/pytorch/lib/python3.9/site-packages (from scikit-image) (3.1)\n",
      "Requirement already satisfied: pillow>=9.0.1 in /opt/conda/envs/pytorch/lib/python3.9/site-packages (from scikit-image) (10.0.0)\n",
      "Requirement already satisfied: numpy>=1.22 in /opt/conda/envs/pytorch/lib/python3.9/site-packages (from scikit-image) (1.24.4)\n",
      "Requirement already satisfied: scipy>=1.8 in /opt/conda/envs/pytorch/lib/python3.9/site-packages (from scikit-image) (1.11.1)\n",
      "Requirement already satisfied: imageio>=2.27 in /opt/conda/envs/pytorch/lib/python3.9/site-packages (from scikit-image) (2.31.5)\n",
      "Requirement already satisfied: lazy_loader>=0.3 in /opt/conda/envs/pytorch/lib/python3.9/site-packages (from scikit-image) (0.3)\n",
      "Requirement already satisfied: s3transfer<0.7.0,>=0.6.0 in /opt/conda/envs/pytorch/lib/python3.9/site-packages (from boto3) (0.6.2)\n",
      "Requirement already satisfied: botocore<1.32.0,>=1.31.28 in /opt/conda/envs/pytorch/lib/python3.9/site-packages (from boto3) (1.31.28)\n",
      "Requirement already satisfied: jmespath<2.0.0,>=0.7.1 in /opt/conda/envs/pytorch/lib/python3.9/site-packages (from boto3) (1.0.1)\n",
      "Requirement already satisfied: urllib3<1.27,>=1.25.4 in /opt/conda/envs/pytorch/lib/python3.9/site-packages (from botocore<1.32.0,>=1.31.28->boto3) (1.26.15)\n",
      "Requirement already satisfied: python-dateutil<3.0.0,>=2.1 in /opt/conda/envs/pytorch/lib/python3.9/site-packages (from botocore<1.32.0,>=1.31.28->boto3) (2.8.2)\n",
      "Requirement already satisfied: pyparsing!=3.0.5,>=2.0.2 in /opt/conda/envs/pytorch/lib/python3.9/site-packages (from packaging>=21->scikit-image) (3.1.1)\n",
      "Requirement already satisfied: six>=1.5 in /opt/conda/envs/pytorch/lib/python3.9/site-packages (from python-dateutil<3.0.0,>=2.1->botocore<1.32.0,>=1.31.28->boto3) (1.16.0)\n"
     ]
    }
   ],
   "source": [
    "!pip3 install scikit-image boto3"
   ]
  },
  {
   "cell_type": "markdown",
   "metadata": {
    "tags": []
   },
   "source": [
    "# Imports"
   ]
  },
  {
   "cell_type": "code",
   "execution_count": 1,
   "metadata": {},
   "outputs": [
    {
     "name": "stderr",
     "output_type": "stream",
     "text": [
      "/opt/conda/envs/pytorch/lib/python3.9/site-packages/torchvision/io/image.py:13: UserWarning: Failed to load image Python extension: libtorch_cuda_cu.so: cannot open shared object file: No such file or directory\n",
      "  warn(f\"Failed to load image Python extension: {e}\")\n"
     ]
    }
   ],
   "source": [
    "import torch\n",
    "import torch.nn as nn\n",
    "import torch.optim as optim\n",
    "from torch.optim.lr_scheduler import StepLR, ReduceLROnPlateau\n",
    "\n",
    "import torchvision.transforms as transforms\n",
    "from torch.utils.data import Dataset, DataLoader, random_split, Subset\n",
    "from torch.utils.data import Subset\n",
    "from sklearn.model_selection import train_test_split\n",
    "\n",
    "import pandas as pd\n",
    "import numpy as np\n",
    "import matplotlib.pyplot as plt\n",
    "import os\n",
    "import io\n",
    "import boto3\n",
    "from PIL import Image\n",
    "\n",
    "\n",
    "\n",
    "from tqdm import tqdm"
   ]
  },
  {
   "cell_type": "markdown",
   "metadata": {},
   "source": [
    "# Light EDA - See if alpha channel is any useful"
   ]
  },
  {
   "cell_type": "code",
   "execution_count": 5,
   "metadata": {},
   "outputs": [],
   "source": [
    "# Set up S3\n",
    "bucket = 's3://w210-fall-2023-asd'\n",
    "bucket_name = 'w210-fall-2023-asd'"
   ]
  },
  {
   "cell_type": "code",
   "execution_count": 3,
   "metadata": {
    "tags": []
   },
   "outputs": [],
   "source": [
    "# from PIL import Image\n",
    "# import os\n",
    "\n",
    "# def distinct_alpha_values_from_s3(bucket_name):\n",
    "#     s3 = boto3.client('s3')\n",
    "#     distinct_values = set()\n",
    "\n",
    "#     paginator = s3.get_paginator('list_objects_v2')\n",
    "#     pages = paginator.paginate(Bucket=bucket_name)\n",
    "\n",
    "#     for page in pages:\n",
    "#         for obj in page.get('Contents', []):\n",
    "#             img_key = obj['Key']\n",
    "\n",
    "#             if img_key.endswith(('.png')):\n",
    "#                 img_byte_arr = s3.get_object(Bucket=bucket_name, Key=img_key)['Body'].read()\n",
    "#                 img = Image.open(io.BytesIO(img_byte_arr))\n",
    "\n",
    "#                 if img.mode == 'RGBA':\n",
    "#                     alpha_channel = img.split()[3]\n",
    "#                     distinct_values.update(set(alpha_channel.getdata()))\n",
    "\n",
    "#     return distinct_values\n",
    "\n",
    "# values = distinct_alpha_values_from_s3(bucket_name)\n",
    "# print(values)"
   ]
  },
  {
   "cell_type": "markdown",
   "metadata": {},
   "source": [
    "# Build the DataClass"
   ]
  },
  {
   "cell_type": "code",
   "execution_count": 4,
   "metadata": {},
   "outputs": [
    {
     "name": "stderr",
     "output_type": "stream",
     "text": [
      "/opt/conda/envs/pytorch/lib/python3.9/site-packages/torchvision/transforms/transforms.py:899: UserWarning: Argument 'interpolation' of type int is deprecated since 0.13 and will be removed in 0.15. Please use InterpolationMode enum.\n",
      "  warnings.warn(\n"
     ]
    }
   ],
   "source": [
    "def getMetadataDF(s3_client, bucket_name, metadata_path):\n",
    "    obj = s3_client.get_object(Bucket=bucket_name, Key=metadata_path)\n",
    "    metadata_str = obj['Body'].read().decode('utf-8')\n",
    "    source_metadata = pd.read_json(io.StringIO(metadata_str), orient='index').T\n",
    "    source_metadata = pd.concat([source_metadata.TCImages, source_metadata.TSImages])\n",
    "    source_metadata = pd.DataFrame(source_metadata.dropna().reset_index(drop=True).fillna(0).to_list())\n",
    "    \n",
    "    # Feature Engineering\n",
    "    source_metadata['Age'] = source_metadata['Age'].astype(float)\n",
    "    source_metadata['gender_encoded'] = source_metadata.apply(lambda x: 1 if x['Gender'] == 'M' else 0, axis=1)\n",
    "    source_metadata['label'] = source_metadata.apply(lambda x: 1 if x['File'].startswith('TC') else 0, axis=1)\n",
    "    return source_metadata\n",
    "\n",
    "class ASDDataSet(Dataset):\n",
    "    def __init__(self, bucket_name, source_dir, transform=None):\n",
    "        self.s3 = boto3.client('s3')\n",
    "        self.bucket_name = bucket_name\n",
    "        self.source_dir = source_dir\n",
    "        self.transform = transform\n",
    "        \n",
    "        self.metadata_df = getMetadataDF(self.s3, self.bucket_name, os.path.join(source_dir, 'data.json'))\n",
    "        self.image_paths = self.metadata_df['File'].tolist()\n",
    "        \n",
    "    def __len__(self):\n",
    "        return len(self.metadata_df)\n",
    "    \n",
    "    def __getitem__(self, idx):\n",
    "        image_path = os.path.join(self.source_dir, 'asd_images/', self.image_paths[idx])\n",
    "        obj = self.s3.get_object(Bucket=self.bucket_name, Key=image_path)\n",
    "        image_data = obj['Body'].read()\n",
    "        image = Image.open(io.BytesIO(image_data))\n",
    "        \n",
    "        gender = torch.tensor(self.metadata_df.gender_encoded[idx], dtype=torch.long)\n",
    "        age = torch.tensor(self.metadata_df.Age[idx], dtype=torch.float32)\n",
    "        label = torch.tensor(self.metadata_df.label[idx], dtype=torch.long)\n",
    "        cars = torch.tensor(self.metadata_df.CARS[idx], dtype=torch.float32)\n",
    "    \n",
    "        if self.transform:\n",
    "            image = self.transform(image)\n",
    "        \n",
    "        return image, gender, age, label, cars\n",
    "\n",
    "# TODO: determine if we should discard alpha\n",
    "def discard_alpha(img):\n",
    "    r, g, b, _ = img.split()\n",
    "    return Image.merge(\"RGB\", (r, g, b))\n",
    "\n",
    "transform = transforms.Compose([\n",
    "    transforms.Lambda(discard_alpha),\n",
    "    \n",
    "    transforms.RandomAffine(degrees=10, translate=(0.1, 0.1), scale=None, shear=None, fill=0),\n",
    "\n",
    "    # transforms.RandomHorizontalFlip(p=0.5),\n",
    "    # transforms.RandomRotation(15),  # Rotate ±15 degrees\n",
    "    transforms.ColorJitter(brightness=0.2, contrast=0.2, saturation=0.2, hue=0.2),\n",
    "    transforms.RandomResizedCrop(size=(480,640), scale=(0.8, 1.0), ratio=(0.75, 1.33), interpolation=2),  # Assuming an output size of 224x224. Adjust as needed.\n",
    "    transforms.ToTensor(),\n",
    "    # transforms.Normalize(mean=[0.485, 0.456, 0.406], std=[0.229, 0.224, 0.225])\n",
    "\n",
    "])\n",
    "\n"
   ]
  },
  {
   "cell_type": "code",
   "execution_count": 5,
   "metadata": {},
   "outputs": [],
   "source": [
    "dataset = ASDDataSet(bucket_name=bucket_name, source_dir='', transform=transform)\n",
    "dataloader = DataLoader(dataset, batch_size=32, shuffle=True)"
   ]
  },
  {
   "cell_type": "code",
   "execution_count": 6,
   "metadata": {
    "tags": []
   },
   "outputs": [
    {
     "name": "stdout",
     "output_type": "stream",
     "text": [
      "images[nth_image_in_batch].shape=torch.Size([3, 480, 640])\n",
      "genders[nth_image_in_batch]=tensor(0)\n",
      "ages[nth_image_in_batch]=tensor(8.9000)\n",
      "labels[nth_image_in_batch]=tensor(1)\n",
      "cars[nth_image_in_batch]=tensor(nan)\n",
      "\n"
     ]
    },
    {
     "data": {
      "image/png": "[encoded data removed]",
      "text/plain": [
       "<Figure size 640x480 with 1 Axes>"
      ]
     },
     "metadata": {},
     "output_type": "display_data"
    }
   ],
   "source": [
    "# Test the dataset and dataloader\n",
    "\n",
    "nth_image_in_batch = 19\n",
    "\n",
    "data_iter = iter(dataloader)\n",
    "images, genders, ages, labels, cars = next(data_iter)\n",
    "plt.imshow(images[nth_image_in_batch].permute(1,2,0))\n",
    "print(f'{images[nth_image_in_batch].shape=}\\n{genders[nth_image_in_batch]=}\\n{ages[nth_image_in_batch]=}\\n{labels[nth_image_in_batch]=}\\n{cars[nth_image_in_batch]=}\\n')"
   ]
  },
  {
   "cell_type": "markdown",
   "metadata": {},
   "source": [
    "# Define the Model"
   ]
  },
  {
   "cell_type": "code",
   "execution_count": 32,
   "metadata": {},
   "outputs": [
    {
     "name": "stdout",
     "output_type": "stream",
     "text": [
      "Using device: cuda:0\n"
     ]
    }
   ],
   "source": [
    "# Check GPU\n",
    "# device = torch.device(\"cuda:0\" if torch.cuda.is_available() else \"cpu\")\n",
    "# print(f'Using device: {device}')\n",
    "\n",
    "device = 'cpu'"
   ]
  },
  {
   "cell_type": "code",
   "execution_count": 8,
   "metadata": {},
   "outputs": [],
   "source": [
    "class ClassicalCNN(nn.Module):\n",
    "    def __init__(self):\n",
    "        super(ClassicalCNN, self).__init__()\n",
    "        \n",
    "        # Conv Layer 1\n",
    "        self.conv1 = nn.Conv2d(in_channels=3, out_channels=16, kernel_size=3, stride=1, padding=1)\n",
    "        self.bn1 = nn.BatchNorm2d(16)\n",
    "        self.relu1 = nn.ReLU()\n",
    "\n",
    "        # Conv Layer 2\n",
    "        self.conv2 = nn.Conv2d(in_channels=16, out_channels=32, kernel_size=3, stride=1, padding=1)\n",
    "        self.bn2 = nn.BatchNorm2d(32)\n",
    "        self.relu2 = nn.ReLU()\n",
    "        \n",
    "        # Max pool\n",
    "        self.pool = nn.MaxPool2d(2,2)\n",
    "\n",
    "        # Fully Connected Layer\n",
    "        # self.fc1 = nn.Linear(614400, 256)\n",
    "        self.fc1 = nn.Linear(32 * 480//4 * 640//4, 256)  # batch_size * width/(2*n_conv_layers) * height/(2*n_conv_layers) * (PI(out_channel_sizes)).Assuming image size is 224x224\n",
    "        self.dropout1 = nn.Dropout(0.5)\n",
    "        self.lrelu = nn.LeakyReLU()\n",
    "        self.fc2 = nn.Linear(256, 2)  # Two classes, hence output is 2.\n",
    "\n",
    "    def forward(self, x):\n",
    "        # Conv Layer 1\n",
    "        x = self.pool(self.relu1(self.bn1(self.conv1(x))))\n",
    "\n",
    "        # Conv Layer 2\n",
    "        x = self.pool(self.relu2(self.bn2(self.conv2(x))))\n",
    "\n",
    "        # Flatten\n",
    "        x = x.view(x.size(0), -1)\n",
    "\n",
    "        # Fully Connected Layer\n",
    "        x = self.fc1(x)\n",
    "        x = self.lrelu(x)\n",
    "        x = self.dropout1(x)\n",
    "        \n",
    "        x = self.fc2(x)\n",
    "        \n",
    "        return x"
   ]
  },
  {
   "cell_type": "code",
   "execution_count": 9,
   "metadata": {},
   "outputs": [],
   "source": [
    "model = ClassicalCNN()\n",
    "model.to(device)\n",
    "criterion = nn.CrossEntropyLoss()\n",
    "optimizer = optim.Adam(model.parameters(), lr=0.001, weight_decay=1e-5)\n",
    "\n",
    "# CHOSE 1\n",
    "scheduler_stepLR = StepLR(optimizer, step_size=10, gamma=0.1)\n",
    "scheduler_plateau = ReduceLROnPlateau(optimizer, mode='min', factor=0.1, patience=5, verbose=True)"
   ]
  },
  {
   "cell_type": "code",
   "execution_count": 10,
   "metadata": {},
   "outputs": [
    {
     "name": "stdout",
     "output_type": "stream",
     "text": [
      "ClassicalCNN(\n",
      "  (conv1): Conv2d(3, 16, kernel_size=(3, 3), stride=(1, 1), padding=(1, 1))\n",
      "  (bn1): BatchNorm2d(16, eps=1e-05, momentum=0.1, affine=True, track_running_stats=True)\n",
      "  (relu1): ReLU()\n",
      "  (conv2): Conv2d(16, 32, kernel_size=(3, 3), stride=(1, 1), padding=(1, 1))\n",
      "  (bn2): BatchNorm2d(32, eps=1e-05, momentum=0.1, affine=True, track_running_stats=True)\n",
      "  (relu2): ReLU()\n",
      "  (pool): MaxPool2d(kernel_size=2, stride=2, padding=0, dilation=1, ceil_mode=False)\n",
      "  (fc1): Linear(in_features=614400, out_features=256, bias=True)\n",
      "  (dropout1): Dropout(p=0.5, inplace=False)\n",
      "  (lrelu): LeakyReLU(negative_slope=0.01)\n",
      "  (fc2): Linear(in_features=256, out_features=2, bias=True)\n",
      ")\n",
      "\n",
      "\n",
      "Total Parameters: 157292354\n",
      "Trainable Parameters: 157292354\n"
     ]
    }
   ],
   "source": [
    "print(model)\n",
    "total_params = sum(p.numel() for p in model.parameters())\n",
    "trainable_params = sum(p.numel() for p in model.parameters() if p.requires_grad)\n",
    "\n",
    "print(\"\\n\")\n",
    "print(f\"Total Parameters: {total_params}\")\n",
    "print(f\"Trainable Parameters: {trainable_params}\")"
   ]
  },
  {
   "cell_type": "code",
   "execution_count": 11,
   "metadata": {},
   "outputs": [],
   "source": [
    "dataset = ASDDataSet(bucket_name=bucket_name, source_dir='', transform=transform)\n",
    "dataloader = DataLoader(dataset, batch_size=32, shuffle=True)"
   ]
  },
  {
   "cell_type": "code",
   "execution_count": 12,
   "metadata": {},
   "outputs": [],
   "source": [
    "train_indices, val_indices = train_test_split(\n",
    "    list(range(len(dataset))), \n",
    "    test_size=0.2, \n",
    "    stratify=dataset.metadata_df.label\n",
    ")\n",
    "\n",
    "train_subset = Subset(dataset, train_indices)\n",
    "val_subset = Subset(dataset, val_indices)\n",
    "\n",
    "train_loader = DataLoader(train_subset, batch_size=32, shuffle=True)\n",
    "val_loader = DataLoader(val_subset, batch_size=32, shuffle=False)"
   ]
  },
  {
   "cell_type": "code",
   "execution_count": 13,
   "metadata": {},
   "outputs": [
    {
     "name": "stdout",
     "output_type": "stream",
     "text": [
      "len(train_indices)=437\n",
      "len(val_indices)=110\n"
     ]
    }
   ],
   "source": [
    "print(f'{len(train_indices)=}\\n{len(val_indices)=}')"
   ]
  },
  {
   "cell_type": "code",
   "execution_count": 14,
   "metadata": {},
   "outputs": [
    {
     "name": "stdout",
     "output_type": "stream",
     "text": [
      "torch.Size([32, 3, 480, 640])\n",
      "torch.Size([32, 3, 480, 640])\n",
      "torch.Size([32, 3, 480, 640])\n",
      "torch.Size([14, 3, 480, 640])\n"
     ]
    }
   ],
   "source": [
    "for batch in val_loader:\n",
    "    print(batch[0].shape)"
   ]
  },
  {
   "cell_type": "code",
   "execution_count": 17,
   "metadata": {
    "tags": []
   },
   "outputs": [
    {
     "name": "stderr",
     "output_type": "stream",
     "text": [
      "Epoch 1/15: 100%|███████████████████████████████████████████████████████████████████████| 14/14 [01:24<00:00,  6.02s/it]\n",
      "Validating Epoch 1/15: 100%|██████████████████████████████████████████████████████████████| 4/4 [00:10<00:00,  2.75s/it]\n"
     ]
    },
    {
     "name": "stdout",
     "output_type": "stream",
     "text": [
      "Epoch [1/15], Train Loss: 0.0767, Validation Loss: 1.1666, Accuracy: 60.00%\n"
     ]
    },
    {
     "name": "stderr",
     "output_type": "stream",
     "text": [
      "Epoch 2/15: 100%|███████████████████████████████████████████████████████████████████████| 14/14 [01:22<00:00,  5.88s/it]\n",
      "Validating Epoch 2/15: 100%|██████████████████████████████████████████████████████████████| 4/4 [00:11<00:00,  2.88s/it]\n"
     ]
    },
    {
     "name": "stdout",
     "output_type": "stream",
     "text": [
      "Epoch [2/15], Train Loss: 0.0840, Validation Loss: 1.2479, Accuracy: 60.00%\n"
     ]
    },
    {
     "name": "stderr",
     "output_type": "stream",
     "text": [
      "Epoch 3/15: 100%|███████████████████████████████████████████████████████████████████████| 14/14 [01:21<00:00,  5.83s/it]\n",
      "Validating Epoch 3/15: 100%|██████████████████████████████████████████████████████████████| 4/4 [00:11<00:00,  2.90s/it]\n"
     ]
    },
    {
     "name": "stdout",
     "output_type": "stream",
     "text": [
      "Epoch [3/15], Train Loss: 0.0574, Validation Loss: 1.2545, Accuracy: 60.91%\n"
     ]
    },
    {
     "name": "stderr",
     "output_type": "stream",
     "text": [
      "Epoch 4/15: 100%|███████████████████████████████████████████████████████████████████████| 14/14 [01:20<00:00,  5.77s/it]\n",
      "Validating Epoch 4/15: 100%|██████████████████████████████████████████████████████████████| 4/4 [00:14<00:00,  3.59s/it]\n"
     ]
    },
    {
     "name": "stdout",
     "output_type": "stream",
     "text": [
      "Epoch [4/15], Train Loss: 0.0712, Validation Loss: 0.6087, Accuracy: 68.18%\n"
     ]
    },
    {
     "name": "stderr",
     "output_type": "stream",
     "text": [
      "Epoch 5/15: 100%|███████████████████████████████████████████████████████████████████████| 14/14 [01:21<00:00,  5.80s/it]\n",
      "Validating Epoch 5/15: 100%|██████████████████████████████████████████████████████████████| 4/4 [00:09<00:00,  2.40s/it]\n"
     ]
    },
    {
     "name": "stdout",
     "output_type": "stream",
     "text": [
      "Epoch [5/15], Train Loss: 0.0593, Validation Loss: 0.5356, Accuracy: 71.82%\n"
     ]
    },
    {
     "name": "stderr",
     "output_type": "stream",
     "text": [
      "Epoch 6/15: 100%|███████████████████████████████████████████████████████████████████████| 14/14 [01:20<00:00,  5.74s/it]\n",
      "Validating Epoch 6/15: 100%|██████████████████████████████████████████████████████████████| 4/4 [00:10<00:00,  2.51s/it]\n"
     ]
    },
    {
     "name": "stdout",
     "output_type": "stream",
     "text": [
      "Epoch [6/15], Train Loss: 0.0388, Validation Loss: 0.7092, Accuracy: 68.18%\n"
     ]
    },
    {
     "name": "stderr",
     "output_type": "stream",
     "text": [
      "Epoch 7/15: 100%|███████████████████████████████████████████████████████████████████████| 14/14 [01:19<00:00,  5.67s/it]\n",
      "Validating Epoch 7/15: 100%|██████████████████████████████████████████████████████████████| 4/4 [00:10<00:00,  2.52s/it]\n"
     ]
    },
    {
     "name": "stdout",
     "output_type": "stream",
     "text": [
      "Epoch [7/15], Train Loss: 0.0699, Validation Loss: 0.4694, Accuracy: 75.45%\n"
     ]
    },
    {
     "name": "stderr",
     "output_type": "stream",
     "text": [
      "Epoch 8/15: 100%|███████████████████████████████████████████████████████████████████████| 14/14 [01:18<00:00,  5.59s/it]\n",
      "Validating Epoch 8/15: 100%|██████████████████████████████████████████████████████████████| 4/4 [00:09<00:00,  2.45s/it]\n"
     ]
    },
    {
     "name": "stdout",
     "output_type": "stream",
     "text": [
      "Epoch [8/15], Train Loss: 0.0500, Validation Loss: 0.4988, Accuracy: 76.36%\n"
     ]
    },
    {
     "name": "stderr",
     "output_type": "stream",
     "text": [
      "Epoch 9/15: 100%|███████████████████████████████████████████████████████████████████████| 14/14 [01:18<00:00,  5.63s/it]\n",
      "Validating Epoch 9/15: 100%|██████████████████████████████████████████████████████████████| 4/4 [00:09<00:00,  2.34s/it]\n"
     ]
    },
    {
     "name": "stdout",
     "output_type": "stream",
     "text": [
      "Epoch [9/15], Train Loss: 0.0792, Validation Loss: 0.5215, Accuracy: 74.55%\n"
     ]
    },
    {
     "name": "stderr",
     "output_type": "stream",
     "text": [
      "Epoch 10/15: 100%|██████████████████████████████████████████████████████████████████████| 14/14 [01:18<00:00,  5.60s/it]\n",
      "Validating Epoch 10/15: 100%|█████████████████████████████████████████████████████████████| 4/4 [00:09<00:00,  2.36s/it]\n"
     ]
    },
    {
     "name": "stdout",
     "output_type": "stream",
     "text": [
      "Epoch [10/15], Train Loss: 0.0596, Validation Loss: 0.5465, Accuracy: 75.45%\n"
     ]
    },
    {
     "name": "stderr",
     "output_type": "stream",
     "text": [
      "Epoch 11/15: 100%|██████████████████████████████████████████████████████████████████████| 14/14 [01:19<00:00,  5.65s/it]\n",
      "Validating Epoch 11/15: 100%|█████████████████████████████████████████████████████████████| 4/4 [00:09<00:00,  2.49s/it]\n"
     ]
    },
    {
     "name": "stdout",
     "output_type": "stream",
     "text": [
      "Epoch [11/15], Train Loss: 0.0497, Validation Loss: 0.4896, Accuracy: 72.73%\n"
     ]
    },
    {
     "name": "stderr",
     "output_type": "stream",
     "text": [
      "Epoch 12/15: 100%|██████████████████████████████████████████████████████████████████████| 14/14 [01:18<00:00,  5.63s/it]\n",
      "Validating Epoch 12/15: 100%|█████████████████████████████████████████████████████████████| 4/4 [00:10<00:00,  2.65s/it]\n"
     ]
    },
    {
     "name": "stdout",
     "output_type": "stream",
     "text": [
      "Epoch [12/15], Train Loss: 0.0412, Validation Loss: 0.4496, Accuracy: 75.45%\n"
     ]
    },
    {
     "name": "stderr",
     "output_type": "stream",
     "text": [
      "Epoch 13/15: 100%|██████████████████████████████████████████████████████████████████████| 14/14 [01:18<00:00,  5.61s/it]\n",
      "Validating Epoch 13/15: 100%|█████████████████████████████████████████████████████████████| 4/4 [00:09<00:00,  2.35s/it]\n"
     ]
    },
    {
     "name": "stdout",
     "output_type": "stream",
     "text": [
      "Epoch [13/15], Train Loss: 0.0445, Validation Loss: 0.5123, Accuracy: 71.82%\n"
     ]
    },
    {
     "name": "stderr",
     "output_type": "stream",
     "text": [
      "Epoch 14/15: 100%|██████████████████████████████████████████████████████████████████████| 14/14 [01:18<00:00,  5.60s/it]\n",
      "Validating Epoch 14/15: 100%|█████████████████████████████████████████████████████████████| 4/4 [00:09<00:00,  2.36s/it]\n"
     ]
    },
    {
     "name": "stdout",
     "output_type": "stream",
     "text": [
      "Epoch [14/15], Train Loss: 0.0696, Validation Loss: 0.4857, Accuracy: 76.36%\n"
     ]
    },
    {
     "name": "stderr",
     "output_type": "stream",
     "text": [
      "Epoch 15/15: 100%|██████████████████████████████████████████████████████████████████████| 14/14 [01:18<00:00,  5.59s/it]\n",
      "Validating Epoch 15/15: 100%|█████████████████████████████████████████████████████████████| 4/4 [00:11<00:00,  2.75s/it]"
     ]
    },
    {
     "name": "stdout",
     "output_type": "stream",
     "text": [
      "Epoch [15/15], Train Loss: 0.0330, Validation Loss: 0.4625, Accuracy: 77.27%\n",
      "Training complete!\n"
     ]
    },
    {
     "name": "stderr",
     "output_type": "stream",
     "text": [
      "\n"
     ]
    }
   ],
   "source": [
    "epochs = 15\n",
    "\n",
    "train_losses = []\n",
    "val_losses = []\n",
    "\n",
    "for epoch in range(epochs):\n",
    "    \n",
    "    for images, genders, ages, labels, cars in tqdm(train_loader, desc=f\"Epoch {epoch+1}/{epochs}\"):\n",
    "        model.train()\n",
    "        train_loss = 0\n",
    "        images, genders, ages, labels, cars = images.to(device), genders, ages, labels.to(device), cars\n",
    "        optimizer.zero_grad()\n",
    "        outputs = model(images)\n",
    "        loss = criterion(outputs, labels)\n",
    "        loss.backward()\n",
    "        optimizer.step()\n",
    "        train_loss += loss.item()\n",
    "        \n",
    "    avg_train_loss = train_loss / len(train_loader)\n",
    "    train_losses.append(avg_train_loss)\n",
    "\n",
    "\n",
    "    # Evaluation Phase\n",
    "    model.eval()\n",
    "    correct_predictions = 0\n",
    "    total_predictions = 0\n",
    "    val_loss = 0.0\n",
    "    \n",
    "    with torch.no_grad():\n",
    "        for images, genders, ages, labels, cars in tqdm(val_loader, desc=f\"Validating Epoch {epoch+1}/{epochs}\"):\n",
    "            images, genders, ages, labels, cars = images.to(device), genders.to(device), ages.to(device), labels.to(device), cars.to(device)\n",
    "\n",
    "            outputs = model(images)\n",
    "            loss = criterion(outputs, labels)\n",
    "            val_loss += loss.item()\n",
    "            _, predicted = outputs.max(1)\n",
    "            total_predictions += labels.size(0)\n",
    "            correct_predictions += (predicted == labels).sum().item()\n",
    "\n",
    "    avg_val_loss = val_loss / len(val_loader)\n",
    "    val_losses.append(avg_val_loss)\n",
    "\n",
    "    accuracy = 100 * correct_predictions / total_predictions\n",
    "\n",
    "    print(f'Epoch [{epoch+1}/{epochs}], Train Loss: {avg_train_loss:.4f}, Validation Loss: {avg_val_loss:.4f}, Accuracy: {accuracy:.2f}%')\n",
    "    \n",
    "    # Chose 1\n",
    "    scheduler_stepLR.step()\n",
    "    # scheduler_plateau.step(val_loss)\n",
    "\n",
    "print(\"Training complete!\")"
   ]
  },
  {
   "cell_type": "code",
   "execution_count": 19,
   "metadata": {},
   "outputs": [
    {
     "data": {
      "image/png": "[encoded data removed]",
      "text/plain": [
       "<Figure size 1000x500 with 1 Axes>"
      ]
     },
     "metadata": {},
     "output_type": "display_data"
    }
   ],
   "source": [
    "plt.figure(figsize=(10, 5))\n",
    "plt.plot(train_losses, label='Training Loss')\n",
    "plt.plot(val_losses, label='Validation Loss')\n",
    "plt.xlabel(\"Epochs\")\n",
    "plt.ylabel(\"Loss\")\n",
    "plt.title(\"Training & Validation Loss\")\n",
    "plt.legend()\n",
    "plt.show()"
   ]
  },
  {
   "cell_type": "code",
   "execution_count": 58,
   "metadata": {},
   "outputs": [],
   "source": [
    "# Save the model\n",
    "model_scripted = torch.jit.script(model)\n",
    "model_scripted.save('../models/CNNModel.pt')"
   ]
  },
  {
   "cell_type": "markdown",
   "metadata": {},
   "source": [
    "# Test loading the model and predicting on 1 image"
   ]
  },
  {
   "cell_type": "code",
   "execution_count": 3,
   "metadata": {},
   "outputs": [
    {
     "data": {
      "text/plain": [
       "RecursiveScriptModule(\n",
       "  original_name=ClassicalCNN\n",
       "  (conv1): RecursiveScriptModule(original_name=Conv2d)\n",
       "  (bn1): RecursiveScriptModule(original_name=BatchNorm2d)\n",
       "  (relu1): RecursiveScriptModule(original_name=ReLU)\n",
       "  (conv2): RecursiveScriptModule(original_name=Conv2d)\n",
       "  (bn2): RecursiveScriptModule(original_name=BatchNorm2d)\n",
       "  (relu2): RecursiveScriptModule(original_name=ReLU)\n",
       "  (pool): RecursiveScriptModule(original_name=MaxPool2d)\n",
       "  (fc1): RecursiveScriptModule(original_name=Linear)\n",
       "  (dropout1): RecursiveScriptModule(original_name=Dropout)\n",
       "  (lrelu): RecursiveScriptModule(original_name=LeakyReLU)\n",
       "  (fc2): RecursiveScriptModule(original_name=Linear)\n",
       ")"
      ]
     },
     "execution_count": 3,
     "metadata": {},
     "output_type": "execute_result"
    }
   ],
   "source": [
    "m2 = torch.jit.load('../models/CNNModel.pt')\n",
    "m2.to('cuda:0')"
   ]
  },
  {
   "cell_type": "code",
   "execution_count": 60,
   "metadata": {},
   "outputs": [],
   "source": [
    "test_image = Image.open('../data/images/TCImages/TC004_37.png')\n",
    "test_image = transforms.ToTensor()(test_image)[:3,:,:]\n",
    "test_image = test_image.to('cuda:0')"
   ]
  },
  {
   "cell_type": "code",
   "execution_count": 64,
   "metadata": {},
   "outputs": [
    {
     "data": {
      "text/plain": [
       "torch.Size([1, 3, 480, 640])"
      ]
     },
     "execution_count": 64,
     "metadata": {},
     "output_type": "execute_result"
    }
   ],
   "source": [
    "test_image.unsqueeze(0).shape"
   ]
  },
  {
   "cell_type": "code",
   "execution_count": 66,
   "metadata": {},
   "outputs": [],
   "source": [
    "m2.eval()\n",
    "res = m2.forward(test_image.unsqueeze(0))"
   ]
  },
  {
   "cell_type": "code",
   "execution_count": 70,
   "metadata": {},
   "outputs": [],
   "source": [
    "import torch.nn.functional as F"
   ]
  },
  {
   "cell_type": "code",
   "execution_count": 76,
   "metadata": {},
   "outputs": [],
   "source": [
    "prob = F.softmax(res, dim=1)"
   ]
  },
  {
   "cell_type": "code",
   "execution_count": 81,
   "metadata": {},
   "outputs": [],
   "source": [
    "_, predicted_class = torch.max(prob, 1)"
   ]
  },
  {
   "cell_type": "code",
   "execution_count": 82,
   "metadata": {},
   "outputs": [
    {
     "data": {
      "text/plain": [
       "tensor([1], device='cuda:0')"
      ]
     },
     "execution_count": 82,
     "metadata": {},
     "output_type": "execute_result"
    }
   ],
   "source": [
    "predicted_class"
   ]
  },
  {
   "cell_type": "code",
   "execution_count": 85,
   "metadata": {},
   "outputs": [
    {
     "data": {
      "text/html": [
       "<div>\n",
       "<style scoped>\n",
       "    .dataframe tbody tr th:only-of-type {\n",
       "        vertical-align: middle;\n",
       "    }\n",
       "\n",
       "    .dataframe tbody tr th {\n",
       "        vertical-align: top;\n",
       "    }\n",
       "\n",
       "    .dataframe thead th {\n",
       "        text-align: right;\n",
       "    }\n",
       "</style>\n",
       "<table border=\"1\" class=\"dataframe\">\n",
       "  <thead>\n",
       "    <tr style=\"text-align: right;\">\n",
       "      <th></th>\n",
       "      <th>File</th>\n",
       "      <th>ParticipantID</th>\n",
       "      <th>Age</th>\n",
       "      <th>Gender</th>\n",
       "      <th>CARS</th>\n",
       "      <th>gender_encoded</th>\n",
       "      <th>label</th>\n",
       "    </tr>\n",
       "  </thead>\n",
       "  <tbody>\n",
       "    <tr>\n",
       "      <th>3</th>\n",
       "      <td>TC004_37.png</td>\n",
       "      <td>37</td>\n",
       "      <td>12.8</td>\n",
       "      <td>F</td>\n",
       "      <td>NaN</td>\n",
       "      <td>0</td>\n",
       "      <td>1</td>\n",
       "    </tr>\n",
       "  </tbody>\n",
       "</table>\n",
       "</div>"
      ],
      "text/plain": [
       "           File ParticipantID   Age Gender  CARS  gender_encoded  label\n",
       "3  TC004_37.png            37  12.8      F   NaN               0      1"
      ]
     },
     "execution_count": 85,
     "metadata": {},
     "output_type": "execute_result"
    }
   ],
   "source": [
    "dataset.metadata_df[dataset.metadata_df.File=='TC004_37.png']"
   ]
  },
  {
   "cell_type": "markdown",
   "metadata": {},
   "source": [
    "Yay! Correct!"
   ]
  },
  {
   "cell_type": "markdown",
   "metadata": {},
   "source": [
    "# Save to my S3 to use later"
   ]
  },
  {
   "cell_type": "code",
   "execution_count": 7,
   "metadata": {},
   "outputs": [],
   "source": [
    "s3 = boto3.client('s3')\n",
    "s3.upload_file('../models/CNNModel.pt', bucket_name, 'models/CNNModel.pt')"
   ]
  },
  {
   "cell_type": "code",
   "execution_count": null,
   "metadata": {},
   "outputs": [],
   "source": []
  }
 ],
 "metadata": {
  "colab": {
   "authorship_tag": "ABX9TyNSgUXkDBjr2AymcOKRjIWo",
   "include_colab_link": true,
   "provenance": [],
   "toc_visible": true
  },
  "kernelspec": {
   "display_name": "Python 3 (ipykernel)",
   "language": "python",
   "name": "python3"
  },
  "language_info": {
   "codemirror_mode": {
    "name": "ipython",
    "version": 3
   },
   "file_extension": ".py",
   "mimetype": "text/x-python",
   "name": "python",
   "nbconvert_exporter": "python",
   "pygments_lexer": "ipython3",
   "version": "3.9.17"
  }
 },
 "nbformat": 4,
 "nbformat_minor": 4
}
