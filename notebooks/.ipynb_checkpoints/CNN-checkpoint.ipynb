{
 "cells": [
  {
   "cell_type": "markdown",
   "metadata": {
    "colab_type": "text",
    "id": "view-in-github"
   },
   "source": [
    "<a href=\"https://colab.research.google.com/github/hjesse92/Predicting_and_Classifying_ASD_through_Eye-movement_Tracking_using_CV_and_ML/blob/master/CNN.ipynb\" target=\"_parent\"><img src=\"https://colab.research.google.com/assets/colab-badge.svg\" alt=\"Open In Colab\"/></a>"
   ]
  },
  {
   "cell_type": "code",
   "execution_count": 1,
   "metadata": {
    "collapsed": true,
    "jupyter": {
     "outputs_hidden": true
    },
    "tags": []
   },
   "outputs": [
    {
     "name": "stdout",
     "output_type": "stream",
     "text": [
      "Looking in indexes: https://download.pytorch.org/whl/cu118\n",
      "Requirement already satisfied: ipywidgets in /opt/conda/envs/pytorch/lib/python3.9/site-packages (8.0.7)\n",
      "Requirement already satisfied: torch in /opt/conda/envs/pytorch/lib/python3.9/site-packages (2.1.0)\n",
      "Requirement already satisfied: torchvision in /opt/conda/envs/pytorch/lib/python3.9/site-packages (0.14.1)\n",
      "Requirement already satisfied: torchaudio in /opt/conda/envs/pytorch/lib/python3.9/site-packages (0.13.1)\n",
      "Requirement already satisfied: ipykernel>=4.5.1 in /opt/conda/envs/pytorch/lib/python3.9/site-packages (from ipywidgets) (6.25.1)\n",
      "Requirement already satisfied: ipython>=6.1.0 in /opt/conda/envs/pytorch/lib/python3.9/site-packages (from ipywidgets) (8.14.0)\n",
      "Requirement already satisfied: widgetsnbextension~=4.0.7 in /opt/conda/envs/pytorch/lib/python3.9/site-packages (from ipywidgets) (4.0.8)\n",
      "Requirement already satisfied: traitlets>=4.3.1 in /opt/conda/envs/pytorch/lib/python3.9/site-packages (from ipywidgets) (5.9.0)\n",
      "Requirement already satisfied: jupyterlab-widgets~=3.0.7 in /opt/conda/envs/pytorch/lib/python3.9/site-packages (from ipywidgets) (3.0.8)\n",
      "Requirement already satisfied: jinja2 in /opt/conda/envs/pytorch/lib/python3.9/site-packages (from torch) (3.1.2)\n",
      "Requirement already satisfied: nvidia-cuda-cupti-cu12==12.1.105 in /opt/conda/envs/pytorch/lib/python3.9/site-packages (from torch) (12.1.105)\n",
      "Requirement already satisfied: nvidia-cudnn-cu12==8.9.2.26 in /opt/conda/envs/pytorch/lib/python3.9/site-packages (from torch) (8.9.2.26)\n",
      "Requirement already satisfied: fsspec in /opt/conda/envs/pytorch/lib/python3.9/site-packages (from torch) (2023.6.0)\n",
      "Requirement already satisfied: triton==2.1.0 in /opt/conda/envs/pytorch/lib/python3.9/site-packages (from torch) (2.1.0)\n",
      "Requirement already satisfied: nvidia-cublas-cu12==12.1.3.1 in /opt/conda/envs/pytorch/lib/python3.9/site-packages (from torch) (12.1.3.1)\n",
      "Requirement already satisfied: nvidia-nccl-cu12==2.18.1 in /opt/conda/envs/pytorch/lib/python3.9/site-packages (from torch) (2.18.1)\n",
      "Requirement already satisfied: nvidia-cusparse-cu12==12.1.0.106 in /opt/conda/envs/pytorch/lib/python3.9/site-packages (from torch) (12.1.0.106)\n",
      "Requirement already satisfied: nvidia-nvtx-cu12==12.1.105 in /opt/conda/envs/pytorch/lib/python3.9/site-packages (from torch) (12.1.105)\n",
      "Requirement already satisfied: networkx in /opt/conda/envs/pytorch/lib/python3.9/site-packages (from torch) (3.1)\n",
      "Requirement already satisfied: nvidia-cufft-cu12==11.0.2.54 in /opt/conda/envs/pytorch/lib/python3.9/site-packages (from torch) (11.0.2.54)\n",
      "Requirement already satisfied: nvidia-cusolver-cu12==11.4.5.107 in /opt/conda/envs/pytorch/lib/python3.9/site-packages (from torch) (11.4.5.107)\n",
      "Requirement already satisfied: nvidia-cuda-nvrtc-cu12==12.1.105 in /opt/conda/envs/pytorch/lib/python3.9/site-packages (from torch) (12.1.105)\n",
      "Requirement already satisfied: sympy in /opt/conda/envs/pytorch/lib/python3.9/site-packages (from torch) (1.12)\n",
      "Requirement already satisfied: typing-extensions in /opt/conda/envs/pytorch/lib/python3.9/site-packages (from torch) (4.7.1)\n",
      "Requirement already satisfied: nvidia-curand-cu12==10.3.2.106 in /opt/conda/envs/pytorch/lib/python3.9/site-packages (from torch) (10.3.2.106)\n",
      "Requirement already satisfied: nvidia-cuda-runtime-cu12==12.1.105 in /opt/conda/envs/pytorch/lib/python3.9/site-packages (from torch) (12.1.105)\n",
      "Requirement already satisfied: filelock in /opt/conda/envs/pytorch/lib/python3.9/site-packages (from torch) (3.6.0)\n",
      "Requirement already satisfied: nvidia-nvjitlink-cu12 in /opt/conda/envs/pytorch/lib/python3.9/site-packages (from nvidia-cusolver-cu12==11.4.5.107->torch) (12.2.140)\n",
      "Requirement already satisfied: numpy in /opt/conda/envs/pytorch/lib/python3.9/site-packages (from torchvision) (1.24.4)\n",
      "Requirement already satisfied: requests in /opt/conda/envs/pytorch/lib/python3.9/site-packages (from torchvision) (2.31.0)\n",
      "Requirement already satisfied: pillow!=8.3.*,>=5.3.0 in /opt/conda/envs/pytorch/lib/python3.9/site-packages (from torchvision) (10.0.0)\n",
      "Requirement already satisfied: matplotlib-inline>=0.1 in /opt/conda/envs/pytorch/lib/python3.9/site-packages (from ipykernel>=4.5.1->ipywidgets) (0.1.6)\n",
      "Requirement already satisfied: psutil in /opt/conda/envs/pytorch/lib/python3.9/site-packages (from ipykernel>=4.5.1->ipywidgets) (5.9.5)\n",
      "Requirement already satisfied: pyzmq>=20 in /opt/conda/envs/pytorch/lib/python3.9/site-packages (from ipykernel>=4.5.1->ipywidgets) (25.1.1)\n",
      "Requirement already satisfied: tornado>=6.1 in /opt/conda/envs/pytorch/lib/python3.9/site-packages (from ipykernel>=4.5.1->ipywidgets) (6.3.3)\n",
      "Requirement already satisfied: jupyter-client>=6.1.12 in /opt/conda/envs/pytorch/lib/python3.9/site-packages (from ipykernel>=4.5.1->ipywidgets) (8.3.0)\n",
      "Requirement already satisfied: packaging in /opt/conda/envs/pytorch/lib/python3.9/site-packages (from ipykernel>=4.5.1->ipywidgets) (21.3)\n",
      "Requirement already satisfied: comm>=0.1.1 in /opt/conda/envs/pytorch/lib/python3.9/site-packages (from ipykernel>=4.5.1->ipywidgets) (0.1.4)\n",
      "Requirement already satisfied: debugpy>=1.6.5 in /opt/conda/envs/pytorch/lib/python3.9/site-packages (from ipykernel>=4.5.1->ipywidgets) (1.6.8)\n",
      "Requirement already satisfied: nest-asyncio in /opt/conda/envs/pytorch/lib/python3.9/site-packages (from ipykernel>=4.5.1->ipywidgets) (1.5.6)\n",
      "Requirement already satisfied: jupyter-core!=5.0.*,>=4.12 in /opt/conda/envs/pytorch/lib/python3.9/site-packages (from ipykernel>=4.5.1->ipywidgets) (5.3.1)\n",
      "Requirement already satisfied: stack-data in /opt/conda/envs/pytorch/lib/python3.9/site-packages (from ipython>=6.1.0->ipywidgets) (0.6.2)\n",
      "Requirement already satisfied: jedi>=0.16 in /opt/conda/envs/pytorch/lib/python3.9/site-packages (from ipython>=6.1.0->ipywidgets) (0.19.0)\n",
      "Requirement already satisfied: backcall in /opt/conda/envs/pytorch/lib/python3.9/site-packages (from ipython>=6.1.0->ipywidgets) (0.2.0)\n",
      "Requirement already satisfied: pickleshare in /opt/conda/envs/pytorch/lib/python3.9/site-packages (from ipython>=6.1.0->ipywidgets) (0.7.5)\n",
      "Requirement already satisfied: decorator in /opt/conda/envs/pytorch/lib/python3.9/site-packages (from ipython>=6.1.0->ipywidgets) (5.1.1)\n",
      "Requirement already satisfied: pygments>=2.4.0 in /opt/conda/envs/pytorch/lib/python3.9/site-packages (from ipython>=6.1.0->ipywidgets) (2.16.1)\n",
      "Requirement already satisfied: prompt-toolkit!=3.0.37,<3.1.0,>=3.0.30 in /opt/conda/envs/pytorch/lib/python3.9/site-packages (from ipython>=6.1.0->ipywidgets) (3.0.39)\n",
      "Requirement already satisfied: pexpect>4.3 in /opt/conda/envs/pytorch/lib/python3.9/site-packages (from ipython>=6.1.0->ipywidgets) (4.8.0)\n",
      "Requirement already satisfied: MarkupSafe>=2.0 in /opt/conda/envs/pytorch/lib/python3.9/site-packages (from jinja2->torch) (2.1.3)\n",
      "Requirement already satisfied: urllib3<3,>=1.21.1 in /opt/conda/envs/pytorch/lib/python3.9/site-packages (from requests->torchvision) (1.26.15)\n",
      "Requirement already satisfied: certifi>=2017.4.17 in /opt/conda/envs/pytorch/lib/python3.9/site-packages (from requests->torchvision) (2023.7.22)\n",
      "Requirement already satisfied: charset-normalizer<4,>=2 in /opt/conda/envs/pytorch/lib/python3.9/site-packages (from requests->torchvision) (3.2.0)\n",
      "Requirement already satisfied: idna<4,>=2.5 in /opt/conda/envs/pytorch/lib/python3.9/site-packages (from requests->torchvision) (3.4)\n",
      "Requirement already satisfied: mpmath>=0.19 in /opt/conda/envs/pytorch/lib/python3.9/site-packages (from sympy->torch) (1.3.0)\n",
      "Requirement already satisfied: parso<0.9.0,>=0.8.3 in /opt/conda/envs/pytorch/lib/python3.9/site-packages (from jedi>=0.16->ipython>=6.1.0->ipywidgets) (0.8.3)\n",
      "Requirement already satisfied: python-dateutil>=2.8.2 in /opt/conda/envs/pytorch/lib/python3.9/site-packages (from jupyter-client>=6.1.12->ipykernel>=4.5.1->ipywidgets) (2.8.2)\n",
      "Requirement already satisfied: importlib-metadata>=4.8.3 in /opt/conda/envs/pytorch/lib/python3.9/site-packages (from jupyter-client>=6.1.12->ipykernel>=4.5.1->ipywidgets) (6.8.0)\n",
      "Requirement already satisfied: platformdirs>=2.5 in /opt/conda/envs/pytorch/lib/python3.9/site-packages (from jupyter-core!=5.0.*,>=4.12->ipykernel>=4.5.1->ipywidgets) (3.10.0)\n",
      "Requirement already satisfied: ptyprocess>=0.5 in /opt/conda/envs/pytorch/lib/python3.9/site-packages (from pexpect>4.3->ipython>=6.1.0->ipywidgets) (0.7.0)\n",
      "Requirement already satisfied: wcwidth in /opt/conda/envs/pytorch/lib/python3.9/site-packages (from prompt-toolkit!=3.0.37,<3.1.0,>=3.0.30->ipython>=6.1.0->ipywidgets) (0.2.6)\n",
      "Requirement already satisfied: pyparsing!=3.0.5,>=2.0.2 in /opt/conda/envs/pytorch/lib/python3.9/site-packages (from packaging->ipykernel>=4.5.1->ipywidgets) (3.1.1)\n",
      "Requirement already satisfied: pure-eval in /opt/conda/envs/pytorch/lib/python3.9/site-packages (from stack-data->ipython>=6.1.0->ipywidgets) (0.2.2)\n",
      "Requirement already satisfied: asttokens>=2.1.0 in /opt/conda/envs/pytorch/lib/python3.9/site-packages (from stack-data->ipython>=6.1.0->ipywidgets) (2.2.1)\n",
      "Requirement already satisfied: executing>=1.2.0 in /opt/conda/envs/pytorch/lib/python3.9/site-packages (from stack-data->ipython>=6.1.0->ipywidgets) (1.2.0)\n",
      "Requirement already satisfied: six in /opt/conda/envs/pytorch/lib/python3.9/site-packages (from asttokens>=2.1.0->stack-data->ipython>=6.1.0->ipywidgets) (1.16.0)\n",
      "Requirement already satisfied: zipp>=0.5 in /opt/conda/envs/pytorch/lib/python3.9/site-packages (from importlib-metadata>=4.8.3->jupyter-client>=6.1.12->ipykernel>=4.5.1->ipywidgets) (3.16.2)\n"
     ]
    }
   ],
   "source": [
    "!pip3 install ipywidgets torch torchvision torchaudio --index-url https://download.pytorch.org/whl/cu118"
   ]
  },
  {
   "cell_type": "code",
   "execution_count": 2,
   "metadata": {
    "collapsed": true,
    "jupyter": {
     "outputs_hidden": true
    },
    "tags": []
   },
   "outputs": [
    {
     "name": "stdout",
     "output_type": "stream",
     "text": [
      "Requirement already satisfied: scikit-image in /opt/conda/envs/pytorch/lib/python3.9/site-packages (0.22.0)\n",
      "Requirement already satisfied: boto3 in /opt/conda/envs/pytorch/lib/python3.9/site-packages (1.28.28)\n",
      "Requirement already satisfied: packaging>=21 in /opt/conda/envs/pytorch/lib/python3.9/site-packages (from scikit-image) (21.3)\n",
      "Requirement already satisfied: scipy>=1.8 in /opt/conda/envs/pytorch/lib/python3.9/site-packages (from scikit-image) (1.11.1)\n",
      "Requirement already satisfied: pillow>=9.0.1 in /opt/conda/envs/pytorch/lib/python3.9/site-packages (from scikit-image) (10.0.0)\n",
      "Requirement already satisfied: networkx>=2.8 in /opt/conda/envs/pytorch/lib/python3.9/site-packages (from scikit-image) (3.1)\n",
      "Requirement already satisfied: numpy>=1.22 in /opt/conda/envs/pytorch/lib/python3.9/site-packages (from scikit-image) (1.24.4)\n",
      "Requirement already satisfied: lazy_loader>=0.3 in /opt/conda/envs/pytorch/lib/python3.9/site-packages (from scikit-image) (0.3)\n",
      "Requirement already satisfied: tifffile>=2022.8.12 in /opt/conda/envs/pytorch/lib/python3.9/site-packages (from scikit-image) (2023.9.26)\n",
      "Requirement already satisfied: imageio>=2.27 in /opt/conda/envs/pytorch/lib/python3.9/site-packages (from scikit-image) (2.31.5)\n",
      "Requirement already satisfied: jmespath<2.0.0,>=0.7.1 in /opt/conda/envs/pytorch/lib/python3.9/site-packages (from boto3) (1.0.1)\n",
      "Requirement already satisfied: botocore<1.32.0,>=1.31.28 in /opt/conda/envs/pytorch/lib/python3.9/site-packages (from boto3) (1.31.28)\n",
      "Requirement already satisfied: s3transfer<0.7.0,>=0.6.0 in /opt/conda/envs/pytorch/lib/python3.9/site-packages (from boto3) (0.6.2)\n",
      "Requirement already satisfied: python-dateutil<3.0.0,>=2.1 in /opt/conda/envs/pytorch/lib/python3.9/site-packages (from botocore<1.32.0,>=1.31.28->boto3) (2.8.2)\n",
      "Requirement already satisfied: urllib3<1.27,>=1.25.4 in /opt/conda/envs/pytorch/lib/python3.9/site-packages (from botocore<1.32.0,>=1.31.28->boto3) (1.26.15)\n",
      "Requirement already satisfied: pyparsing!=3.0.5,>=2.0.2 in /opt/conda/envs/pytorch/lib/python3.9/site-packages (from packaging>=21->scikit-image) (3.1.1)\n",
      "Requirement already satisfied: six>=1.5 in /opt/conda/envs/pytorch/lib/python3.9/site-packages (from python-dateutil<3.0.0,>=2.1->botocore<1.32.0,>=1.31.28->boto3) (1.16.0)\n"
     ]
    }
   ],
   "source": [
    "!pip3 install scikit-image boto3"
   ]
  },
  {
   "cell_type": "markdown",
   "metadata": {
    "tags": []
   },
   "source": [
    "# Imports"
   ]
  },
  {
   "cell_type": "code",
   "execution_count": 1,
   "metadata": {},
   "outputs": [
    {
     "name": "stderr",
     "output_type": "stream",
     "text": [
      "/opt/conda/envs/pytorch/lib/python3.9/site-packages/torchvision/io/image.py:13: UserWarning: Failed to load image Python extension: libtorch_cuda_cu.so: cannot open shared object file: No such file or directory\n",
      "  warn(f\"Failed to load image Python extension: {e}\")\n"
     ]
    }
   ],
   "source": [
    "import torch\n",
    "import torch.nn as nn\n",
    "import torch.optim as optim\n",
    "\n",
    "import torchvision\n",
    "import torchvision.transforms as transforms\n",
    "import torchvision.datasets as datasets\n",
    "from torch.utils.data import Dataset, DataLoader, random_split\n",
    "import pandas as pd\n",
    "import numpy as np\n",
    "import matplotlib.pyplot as plt\n",
    "import os\n",
    "import io\n",
    "import boto3\n",
    "from PIL import Image\n",
    "\n",
    "from tqdm import tqdm"
   ]
  },
  {
   "cell_type": "markdown",
   "metadata": {},
   "source": [
    "# Light EDA - See if alpha channel is any useful"
   ]
  },
  {
   "cell_type": "code",
   "execution_count": 8,
   "metadata": {},
   "outputs": [
    {
     "name": "stdout",
     "output_type": "stream",
     "text": [
      "{255}\n"
     ]
    }
   ],
   "source": [
    "from PIL import Image\n",
    "import os\n",
    "\n",
    "def distinct_alpha_values_from_s3(bucket_name):\n",
    "    s3 = boto3.client('s3')\n",
    "    distinct_values = set()\n",
    "\n",
    "    paginator = s3.get_paginator('list_objects_v2')\n",
    "    pages = paginator.paginate(Bucket=bucket_name)\n",
    "\n",
    "    for page in pages:\n",
    "        for obj in page.get('Contents', []):\n",
    "            img_key = obj['Key']\n",
    "\n",
    "            if img_key.endswith(('.png')):\n",
    "                img_byte_arr = s3.get_object(Bucket=bucket_name, Key=img_key)['Body'].read()\n",
    "                img = Image.open(io.BytesIO(img_byte_arr))\n",
    "\n",
    "                if img.mode == 'RGBA':\n",
    "                    alpha_channel = img.split()[3]\n",
    "                    distinct_values.update(set(alpha_channel.getdata()))\n",
    "\n",
    "    return distinct_values\n",
    "\n",
    "values = distinct_alpha_values_from_s3(bucket_name)\n",
    "print(values)"
   ]
  },
  {
   "cell_type": "markdown",
   "metadata": {},
   "source": [
    "# Build the DataClass"
   ]
  },
  {
   "cell_type": "code",
   "execution_count": 2,
   "metadata": {},
   "outputs": [],
   "source": [
    "# Set up S3\n",
    "bucket = 's3://w210-fall-2023-asd'\n",
    "bucket_name = 'w210-fall-2023-asd'"
   ]
  },
  {
   "cell_type": "code",
   "execution_count": 85,
   "metadata": {},
   "outputs": [
    {
     "name": "stderr",
     "output_type": "stream",
     "text": [
      "/opt/conda/envs/pytorch/lib/python3.9/site-packages/torchvision/transforms/transforms.py:899: UserWarning: Argument 'interpolation' of type int is deprecated since 0.13 and will be removed in 0.15. Please use InterpolationMode enum.\n",
      "  warnings.warn(\n"
     ]
    }
   ],
   "source": [
    "def getMetadataDF(s3_client, bucket_name, metadata_path):\n",
    "    obj = s3_client.get_object(Bucket=bucket_name, Key=metadata_path)\n",
    "    metadata_str = obj['Body'].read().decode('utf-8')\n",
    "    source_metadata = pd.read_json(io.StringIO(metadata_str), orient='index').T\n",
    "    source_metadata = pd.concat([source_metadata.TCImages, source_metadata.TSImages])\n",
    "    source_metadata = pd.DataFrame(source_metadata.dropna().reset_index(drop=True).fillna(0).to_list())\n",
    "    \n",
    "    # Feature Engineering\n",
    "    source_metadata['Age'] = source_metadata['Age'].astype(float)\n",
    "    source_metadata['gender_encoded'] = source_metadata.apply(lambda x: 1 if x['Gender'] == 'M' else 0, axis=1)\n",
    "    source_metadata['label'] = source_metadata.apply(lambda x: 1 if x['File'].startswith('TC') else 0, axis=1)\n",
    "    return source_metadata\n",
    "\n",
    "class ASDDataSet(Dataset):\n",
    "    def __init__(self, bucket_name, source_dir, transform=None):\n",
    "        self.s3 = boto3.client('s3')\n",
    "        self.bucket_name = bucket_name\n",
    "        self.source_dir = source_dir\n",
    "        self.transform = transform\n",
    "        \n",
    "        self.metadata_df = getMetadataDF(self.s3, self.bucket_name, os.path.join(source_dir, 'data.json'))\n",
    "        self.image_paths = self.metadata_df['File'].tolist()\n",
    "        \n",
    "    def __len__(self):\n",
    "        return len(self.metadata_df)\n",
    "    \n",
    "    def __getitem__(self, idx):\n",
    "        image_path = os.path.join(self.source_dir, 'asd_images/', self.image_paths[idx])\n",
    "        obj = self.s3.get_object(Bucket=self.bucket_name, Key=image_path)\n",
    "        image_data = obj['Body'].read()\n",
    "        image = Image.open(io.BytesIO(image_data))\n",
    "        \n",
    "        gender = torch.tensor(self.metadata_df.gender_encoded[idx], dtype=torch.long)\n",
    "        age = torch.tensor(self.metadata_df.Age[idx], dtype=torch.float32)\n",
    "        label = torch.tensor(self.metadata_df.label[idx], dtype=torch.long)\n",
    "        cars = torch.tensor(self.metadata_df.CARS[idx], dtype=torch.float32)\n",
    "    \n",
    "        if self.transform:\n",
    "            image = self.transform(image)\n",
    "        \n",
    "        return image, gender, age, label, cars\n",
    "\n",
    "# TODO: determine if we should discard alpha\n",
    "def discard_alpha(img):\n",
    "    r, g, b, _ = img.split()\n",
    "    return Image.merge(\"RGB\", (r, g, b))\n",
    "\n",
    "transform = transforms.Compose([\n",
    "    transforms.Lambda(discard_alpha),\n",
    "    \n",
    "    transforms.RandomAffine(degrees=10, translate=(0.1, 0.1), scale=None, shear=None, fill=0),\n",
    "\n",
    "    # transforms.RandomHorizontalFlip(p=0.5),\n",
    "    # transforms.RandomRotation(15),  # Rotate ±15 degrees\n",
    "    transforms.ColorJitter(brightness=0.2, contrast=0.2, saturation=0.2, hue=0.2),\n",
    "    transforms.RandomResizedCrop(size=224, scale=(0.8, 1.0), ratio=(0.75, 1.33), interpolation=2),  # Assuming an output size of 224x224. Adjust as needed.\n",
    "    transforms.ToTensor(),\n",
    "    # transforms.Normalize(mean=[0.485, 0.456, 0.406], std=[0.229, 0.224, 0.225])\n",
    "\n",
    "])\n",
    "\n"
   ]
  },
  {
   "cell_type": "code",
   "execution_count": 86,
   "metadata": {},
   "outputs": [],
   "source": [
    "dataset = ASDDataSet(bucket_name=bucket_name, source_dir='', transform=transform)\n",
    "dataloader = DataLoader(dataset, batch_size=32, shuffle=True)"
   ]
  },
  {
   "cell_type": "code",
   "execution_count": 87,
   "metadata": {
    "tags": []
   },
   "outputs": [
    {
     "name": "stdout",
     "output_type": "stream",
     "text": [
      "images[nth_image_in_batch].shape=torch.Size([3, 224, 224])\n",
      "genders[nth_image_in_batch]=tensor(0)\n",
      "ages[nth_image_in_batch]=tensor(6.7000)\n",
      "labels[nth_image_in_batch]=tensor(1)\n",
      "cars[nth_image_in_batch]=tensor(nan)\n",
      "\n"
     ]
    },
    {
     "data": {
      "image/png": "[encoded data removed]",
      "text/plain": [
       "<Figure size 640x480 with 1 Axes>"
      ]
     },
     "metadata": {},
     "output_type": "display_data"
    }
   ],
   "source": [
    "# Test the dataset and dataloader\n",
    "\n",
    "nth_image_in_batch = 19\n",
    "\n",
    "data_iter = iter(dataloader)\n",
    "images, genders, ages, labels, cars = next(data_iter)\n",
    "plt.imshow(images[nth_image_in_batch].permute(1,2,0))\n",
    "print(f'{images[nth_image_in_batch].shape=}\\n{genders[nth_image_in_batch]=}\\n{ages[nth_image_in_batch]=}\\n{labels[nth_image_in_batch]=}\\n{cars[nth_image_in_batch]=}\\n')"
   ]
  },
  {
   "cell_type": "markdown",
   "metadata": {},
   "source": [
    "# Define the Model"
   ]
  },
  {
   "cell_type": "code",
   "execution_count": 88,
   "metadata": {},
   "outputs": [
    {
     "name": "stdout",
     "output_type": "stream",
     "text": [
      "Using device: cuda:0\n"
     ]
    }
   ],
   "source": [
    "# Check GPU\n",
    "device = torch.device(\"cuda:0\" if torch.cuda.is_available() else \"cpu\")\n",
    "print(f'Using device: {device}')\n",
    "\n",
    "# device = 'cpu'"
   ]
  },
  {
   "cell_type": "code",
   "execution_count": 89,
   "metadata": {},
   "outputs": [],
   "source": [
    "class ClassicalCNN(nn.Module):\n",
    "    def __init__(self):\n",
    "        super(ClassicalCNN, self).__init__()\n",
    "        \n",
    "        # Conv Layer 1\n",
    "        self.conv1 = nn.Conv2d(in_channels=3, out_channels=16, kernel_size=3, stride=1, padding=1)\n",
    "        self.bn1 = nn.BatchNorm2d(16)\n",
    "        self.relu1 = nn.ReLU()\n",
    "\n",
    "        # Max pool 1\n",
    "        self.maxpool1 = nn.MaxPool2d(kernel_size=2)\n",
    "\n",
    "        # Conv Layer 2\n",
    "        self.conv2 = nn.Conv2d(in_channels=16, out_channels=32, kernel_size=3, stride=1, padding=1)\n",
    "        self.bn2 = nn.BatchNorm2d(32)\n",
    "        self.relu2 = nn.ReLU()\n",
    "\n",
    "        # Max pool 2\n",
    "        self.maxpool2 = nn.MaxPool2d(kernel_size=2)\n",
    "\n",
    "        # Fully Connected Layer\n",
    "        self.fc1 = nn.Linear(32 * 56 * 56, 512)  # batch_size * width/(2*n_conv_layers) * height/(2*n_conv_layers) * (PI(out_channel_sizes)).Assuming image size is 224x224\n",
    "        self.dropout1 = nn.Dropout(0.5)\n",
    "        self.fc_relu1 = nn.ReLU()\n",
    "        self.fc2 = nn.Linear(512, 2)  # Two classes, hence output is 2.\n",
    "        self.dropout2 = nn.Dropout(0.5)\n",
    "\n",
    "    def forward(self, x):\n",
    "        # Conv Layer 1\n",
    "        x = self.conv1(x)\n",
    "        x = self.bn1(x)\n",
    "        x = self.relu1(x)\n",
    "\n",
    "        # Max Pool 1\n",
    "        x = self.maxpool1(x)\n",
    "\n",
    "        # Conv Layer 2\n",
    "        x = self.conv2(x)\n",
    "        x = self.bn2(x)\n",
    "        x = self.relu2(x)\n",
    "\n",
    "        # Max Pool 2\n",
    "        x = self.maxpool2(x)\n",
    "\n",
    "        # Flatten\n",
    "        x = x.view(x.size(0), -1)\n",
    "\n",
    "        # Fully Connected Layer\n",
    "        x = self.fc1(x)\n",
    "        x = self.dropout1(x)\n",
    "        x = self.fc_relu1(x)\n",
    "        \n",
    "        x = self.fc2(x)\n",
    "        x = self.dropout2(x)\n",
    "        \n",
    "        return x"
   ]
  },
  {
   "cell_type": "code",
   "execution_count": 90,
   "metadata": {},
   "outputs": [],
   "source": [
    "model = ClassicalCNN()\n",
    "model.to(device)\n",
    "criterion = nn.CrossEntropyLoss()\n",
    "optimizer = optim.Adam(model.parameters(), lr=0.001)"
   ]
  },
  {
   "cell_type": "code",
   "execution_count": 91,
   "metadata": {},
   "outputs": [
    {
     "name": "stdout",
     "output_type": "stream",
     "text": [
      "ClassicalCNN(\n",
      "  (conv1): Conv2d(3, 16, kernel_size=(3, 3), stride=(1, 1), padding=(1, 1))\n",
      "  (bn1): BatchNorm2d(16, eps=1e-05, momentum=0.1, affine=True, track_running_stats=True)\n",
      "  (relu1): ReLU()\n",
      "  (maxpool1): MaxPool2d(kernel_size=2, stride=2, padding=0, dilation=1, ceil_mode=False)\n",
      "  (conv2): Conv2d(16, 32, kernel_size=(3, 3), stride=(1, 1), padding=(1, 1))\n",
      "  (bn2): BatchNorm2d(32, eps=1e-05, momentum=0.1, affine=True, track_running_stats=True)\n",
      "  (relu2): ReLU()\n",
      "  (maxpool2): MaxPool2d(kernel_size=2, stride=2, padding=0, dilation=1, ceil_mode=False)\n",
      "  (fc1): Linear(in_features=100352, out_features=512, bias=True)\n",
      "  (dropout1): Dropout(p=0.5, inplace=False)\n",
      "  (fc_relu1): ReLU()\n",
      "  (fc2): Linear(in_features=512, out_features=2, bias=True)\n",
      "  (dropout2): Dropout(p=0.5, inplace=False)\n",
      ")\n",
      "\n",
      "\n",
      "Total Parameters: 51386946\n",
      "Trainable Parameters: 51386946\n"
     ]
    }
   ],
   "source": [
    "print(model)\n",
    "total_params = sum(p.numel() for p in model.parameters())\n",
    "trainable_params = sum(p.numel() for p in model.parameters() if p.requires_grad)\n",
    "\n",
    "print(\"\\n\")\n",
    "print(f\"Total Parameters: {total_params}\")\n",
    "print(f\"Trainable Parameters: {trainable_params}\")"
   ]
  },
  {
   "cell_type": "code",
   "execution_count": 92,
   "metadata": {},
   "outputs": [],
   "source": [
    "dataset = ASDDataSet(bucket_name=bucket_name, source_dir='', transform=transform)\n",
    "dataloader = DataLoader(dataset, batch_size=32, shuffle=True)"
   ]
  },
  {
   "cell_type": "code",
   "execution_count": 93,
   "metadata": {},
   "outputs": [],
   "source": [
    "train_size = int(0.9 * len(dataset))\n",
    "test_size = len(dataset) - train_size\n",
    "\n",
    "train_dataset, test_dataset = random_split(dataset, [train_size, test_size])\n",
    "\n",
    "train_loader = DataLoader(train_dataset, batch_size=32, shuffle=True)\n",
    "test_loader = DataLoader(test_dataset, batch_size=32, shuffle=False)"
   ]
  },
  {
   "cell_type": "code",
   "execution_count": 94,
   "metadata": {},
   "outputs": [
    {
     "name": "stdout",
     "output_type": "stream",
     "text": [
      "train_size=492\n",
      "test_size=55\n"
     ]
    }
   ],
   "source": [
    "print(f'{train_size=}\\n{test_size=}')"
   ]
  },
  {
   "cell_type": "code",
   "execution_count": null,
   "metadata": {},
   "outputs": [
    {
     "name": "stderr",
     "output_type": "stream",
     "text": [
      "Epoch 1/50:   0%|                                                                                | 0/16 [00:00<?, ?it/s]"
     ]
    }
   ],
   "source": [
    "epochs = 50\n",
    "for epoch in range(epochs):\n",
    "    \n",
    "    for images, genders, ages, labels, cars in tqdm(train_loader, desc=f\"Epoch {epoch+1}/{epochs}\"):\n",
    "        model.train()\n",
    "        train_loss = 0\n",
    "        images, genders, ages, labels, cars = images.to(device), genders.to(device), ages.to(device), labels.to(device), cars.to(device)\n",
    "        optimizer.zero_grad()\n",
    "        outputs = model(images)\n",
    "        loss = criterion(outputs, labels)\n",
    "        loss.backward()\n",
    "        optimizer.step()\n",
    "        train_loss += loss.item()\n",
    "        \n",
    "    avg_train_loss = train_loss / len(train_loader)\n",
    "\n",
    "    # Evaluation Phase\n",
    "    model.eval()\n",
    "    correct_predictions = 0\n",
    "    total_predictions = 0\n",
    "    val_loss = 0.0\n",
    "    \n",
    "    with torch.no_grad():\n",
    "        for images, genders, ages, labels, cars in tqdm(test_loader, desc=f\"Validating Epoch {epoch+1}/{epochs}\"):\n",
    "            images, genders, ages, labels, cars = images.to(device), genders.to(device), ages.to(device), labels.to(device), cars.to(device)\n",
    "\n",
    "            outputs = model(images)\n",
    "            loss = criterion(outputs, labels)\n",
    "            val_loss += loss.item()\n",
    "            _, predicted = outputs.max(1)\n",
    "            total_predictions += labels.size(0)\n",
    "            correct_predictions += (predicted == labels).sum().item()\n",
    "\n",
    "    avg_val_loss = val_loss / len(test_loader)\n",
    "    accuracy = 100 * correct_predictions / total_predictions\n",
    "\n",
    "    print(f'Epoch [{epoch+1}/{epochs}], Train Loss: {avg_train_loss:.4f}, Validation Loss: {avg_val_loss:.4f}, Accuracy: {accuracy:.2f}%')\n",
    "        \n",
    "\n",
    "print(\"Training complete!\")"
   ]
  },
  {
   "cell_type": "code",
   "execution_count": null,
   "metadata": {},
   "outputs": [],
   "source": []
  }
 ],
 "metadata": {
  "colab": {
   "authorship_tag": "ABX9TyNSgUXkDBjr2AymcOKRjIWo",
   "include_colab_link": true,
   "provenance": [],
   "toc_visible": true
  },
  "kernelspec": {
   "display_name": "Python 3 (ipykernel)",
   "language": "python",
   "name": "python3"
  },
  "language_info": {
   "codemirror_mode": {
    "name": "ipython",
    "version": 3
   },
   "file_extension": ".py",
   "mimetype": "text/x-python",
   "name": "python",
   "nbconvert_exporter": "python",
   "pygments_lexer": "ipython3",
   "version": "3.9.17"
  }
 },
 "nbformat": 4,
 "nbformat_minor": 4
}
